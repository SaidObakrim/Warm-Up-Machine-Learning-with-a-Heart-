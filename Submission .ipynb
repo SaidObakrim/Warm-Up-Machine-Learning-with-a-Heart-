{
 "cells": [
  {
   "cell_type": "markdown",
   "metadata": {},
   "source": [
    "# warm up: machine learning with heart \n",
    "In this project we aim to build a classifier that best seperates patients with and without heart disease. First of all we need to import some functions and our data.\n",
    "\n",
    "\n",
    "  - X: the trainig set\n",
    "  - y: labels\n",
    "  - Xtest: the test set"
   ]
  },
  {
   "cell_type": "code",
   "execution_count": null,
   "metadata": {},
   "outputs": [],
   "source": [
    "import pandas as pd\n",
    "from sklearn.preprocessing import StandardScaler\n",
    "import numpy as np\n",
    "from sklearn.preprocessing import LabelEncoder\n",
    "import statsmodels.api as sm\n",
    "X = pd.read_csv(\"train_values.csv\")\n",
    "y = pd.read_csv(\"train_labels.csv\")\n",
    "Xtest = pd.read_csv(\"test_values.csv\")"
   ]
  },
  {
   "cell_type": "markdown",
   "metadata": {},
   "source": [
    "# preprocessing: \n",
    "Before building the model we need to preprocess some features like \"age\" and \"thal\"."
   ]
  },
  {
   "cell_type": "code",
   "execution_count": null,
   "metadata": {},
   "outputs": [],
   "source": [
    "age1 = X[\"age\"]\n",
    "age2 = Xtest[\"age\"]\n",
    "for j in range(90):\n",
    "    if age2[j]>= 30 and age2[j]<= 40 :\n",
    "        age2[j]=0\n",
    "    else:\n",
    "        if age2[j]>40 and age2[j]<=50  :\n",
    "            age2[j]=1\n",
    "        else:\n",
    "            age2[j] = 2\n",
    "for i in range(180):\n",
    "    if age1[i]>= 30 and age1[i]<= 40 :\n",
    "        age1[i]=0\n",
    "    else:\n",
    "        if age1[i]>40 and age1[i]<=50  :\n",
    "            age1[i]=1\n",
    "        else:\n",
    "            age1[i] = 2\n",
    "X[\"thal\"] = LabelEncoder().fit(X[\"thal\"]).transform(X[\"thal\"])\n",
    "X = X.loc[:,X.columns != \"patient_id\" ]\n",
    "Xtest = Xtest.loc[:,Xtest.columns != \"patient_id\" ]\n",
    "Xtest[\"thal\"] = LabelEncoder().fit(Xtest[\"thal\"]).transform(Xtest[\"thal\"])"
   ]
  },
  {
   "cell_type": "markdown",
   "metadata": {},
   "source": [
    "# features engineering:\n",
    "Now it's time to create extra features using our features. "
   ]
  },
  {
   "cell_type": "code",
   "execution_count": null,
   "metadata": {},
   "outputs": [],
   "source": [
    "b = X[\"fasting_blood_sugar_gt_120_mg_per_dl\"]*X[\"sex\"]\n",
    "X[\"new\"] = b\n",
    "c =X[\"exercise_induced_angina\"]*X[\"resting_ekg_results\"]*X[\"fasting_blood_sugar_gt_120_mg_per_dl\"]*X[\"resting_blood_pressure\" ]*X[\"sex\"]\n",
    "X[\"n\"] =c\n",
    "d = X[\"serum_cholesterol_mg_per_dl\" ]*X[\"resting_blood_pressure\"]\n",
    "X[\"nn\"]=d\n",
    "e =X[\"exercise_induced_angina\"]*X[\"slope_of_peak_exercise_st_segment\" ]\n",
    "X[\"nnn\"]=e\n",
    "g = X[\"num_major_vessels\"]*X[\"resting_blood_pressure\"]\n",
    "X['fh'] = g\n",
    "k = X[\"num_major_vessels\"]*X[\"slope_of_peak_exercise_st_segment\" ]*X[\"sex\"]\n",
    "X[\"l\"]=k\n",
    "j= X[\"thal\"]* X[\"age\"]\n",
    "X[\"jjj\"] = j\n",
    "be =Xtest[\"sex\"]* Xtest[\"fasting_blood_sugar_gt_120_mg_per_dl\"]\n",
    "Xtest[\"new\"] = be\n",
    "ce =Xtest[\"sex\"]*Xtest[\"exercise_induced_angina\"]*Xtest[\"resting_ekg_results\"]*Xtest[\"fasting_blood_sugar_gt_120_mg_per_dl\"]*Xtest[\"resting_blood_pressure\" ]\n",
    "Xtest[\"n\"] =ce\n",
    "de = Xtest[\"serum_cholesterol_mg_per_dl\" ]*Xtest[\"resting_blood_pressure\"]\n",
    "Xtest[\"nn\"]=de\n",
    "ee =Xtest[\"exercise_induced_angina\"]*Xtest[\"slope_of_peak_exercise_st_segment\" ]\n",
    "Xtest[\"nnn\"]=ee\n",
    "ge = Xtest[\"num_major_vessels\"]*Xtest[\"resting_blood_pressure\"]\n",
    "Xtest['fh'] = ge\n",
    "ke = Xtest[\"sex\"]*Xtest[\"num_major_vessels\"]*Xtest[\"slope_of_peak_exercise_st_segment\" ]\n",
    "Xtest[\"l\"]=ke\n",
    "je= Xtest[\"thal\"]* Xtest[\"age\"]\n",
    "Xtest[\"jjj\"] = je"
   ]
  },
  {
   "cell_type": "markdown",
   "metadata": {},
   "source": [
    "And eliminate some features"
   ]
  },
  {
   "cell_type": "code",
   "execution_count": null,
   "metadata": {},
   "outputs": [],
   "source": [
    "X = X.loc[:,X.columns != \"slope_of_peak_exercise_st_segment\" ]\n",
    "X = X.loc[:,X.columns != \"resting_blood_pressure\" ]\n",
    "X = X.loc[:,X.columns != \"fasting_blood_sugar_gt_120_mg_per_dl\" ]\n",
    "X = X.loc[:,X.columns != \"resting_ekg_results\" ]\n",
    "X = X.loc[:,X.columns != \"serum_cholesterol_mg_per_dl\" ]\n",
    "X = X.loc[:,X.columns != \"exercise_induced_angina\" ]\n",
    "Xtest = Xtest.loc[:,Xtest.columns != \"slope_of_peak_exercise_st_segment\" ]\n",
    "Xtest = Xtest.loc[:,Xtest.columns != \"resting_blood_pressure\" ]\n",
    "Xtest = Xtest.loc[:,Xtest.columns != \"fasting_blood_sugar_gt_120_mg_per_dl\" ]\n",
    "Xtest = Xtest.loc[:,Xtest.columns != \"resting_ekg_results\" ]\n",
    "Xtest = Xtest.loc[:,Xtest.columns != \"serum_cholesterol_mg_per_dl\" ]\n",
    "Xtest = Xtest.loc[:,Xtest.columns != \"exercise_induced_angina\" ]"
   ]
  },
  {
   "cell_type": "markdown",
   "metadata": {},
   "source": [
    "# Model building and evalution:\n",
    "After selecting relevant features and creating other features we have to create our classifier and evalute it using evalution metrics like: precision, recall, F1 score and log loss. \n",
    "\n",
    "The algorithm I am going to use here is logistic regression."
   ]
  },
  {
   "cell_type": "code",
   "execution_count": null,
   "metadata": {},
   "outputs": [],
   "source": [
    "from sklearn.model_selection import train_test_split\n",
    "from sklearn.linear_model import LogisticRegression\n",
    "from sklearn.metrics import log_loss\n",
    "from sklearn.metrics import confusion_matrix\n",
    "y = y[\"heart_disease_present\"]\n",
    "X = np.asarray(X)    \n",
    "y = np.asarray(y)\n",
    "X = StandardScaler().fit(X).transform(X)\n",
    "Xtest = np.asarray(Xtest)\n",
    "Xtest = StandardScaler().fit(Xtest).transform(Xtest)\n",
    "X_train, X_test, y_train, y_test = train_test_split(Xpca,y,test_size=0.2, random_state = 180)\n",
    "logreg= LogisticRegression(C=10,random_state=1000,max_iter=1000)\n",
    "logreg.fit(X_train,y_train)\n",
    "y_pred = logreg.predict_proba(X_test)\n",
    "yp = logreg.predict_proba(X_train)\n",
    "print(log_loss(y_train, yp))\n",
    "print(log_loss(y_test, y_pred))\n",
    "y_pred2 = logreg.predict(X_test)\n",
    "print(confusion_matrix(y_test, y_pred2))\n",
    "from sklearn.metrics import classification_report\n",
    "print(classification_report(y_test, y_pred2))"
   ]
  },
  {
   "cell_type": "markdown",
   "metadata": {},
   "source": [
    "# predictions:\n",
    "Now I am going to use this model to predict the lables of other ptients in the test set."
   ]
  },
  {
   "cell_type": "code",
   "execution_count": null,
   "metadata": {},
   "outputs": [],
   "source": [
    "logreg= LogisticRegression(C=10,random_state=1000,max_iter=1000)\n",
    "logreg.fit(X,y)\n",
    "predictions = logreg.predict_proba(Xtest)[:,1]\n",
    "mysubmission = pd.DataFrame(data=predictions, columns=submission_format.columns, index=submission_format.index)\n",
    "mysubmission.to_csv(\"my_submission13.csv\")"
   ]
  }
 ],
 "metadata": {
  "kernelspec": {
   "display_name": "Python 3",
   "language": "python",
   "name": "python3"
  },
  "language_info": {
   "codemirror_mode": {
    "name": "ipython",
    "version": 3
   },
   "file_extension": ".py",
   "mimetype": "text/x-python",
   "name": "python",
   "nbconvert_exporter": "python",
   "pygments_lexer": "ipython3",
   "version": "3.6.5"
  }
 },
 "nbformat": 4,
 "nbformat_minor": 2
}
